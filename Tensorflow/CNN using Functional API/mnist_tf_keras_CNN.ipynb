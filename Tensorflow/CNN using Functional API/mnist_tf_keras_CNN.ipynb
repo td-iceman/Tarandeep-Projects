{
 "cells": [
  {
   "cell_type": "markdown",
   "id": "84964440-158b-4554-97fd-7c2f08d06cc7",
   "metadata": {},
   "source": [
    "### Convolutional neural network using Tensorflow Functional API\n",
    "<br><br />\n",
    "This exercise is to implement a CNN which is very similar to the *LeNet-5* network made to identify hand written digits from the [MNIST database](http://yann.lecun.com/exdb/mnist/). The database was converted to a matlab file externally and imported as it is here.\n",
    "\n",
    "Here *Tensorflow* data.Dataset API is also used to create a training dataset much like you would do on cloud for a data pipeline.<br><br />"
   ]
  },
  {
   "cell_type": "code",
   "execution_count": 1,
   "id": "7a0860be",
   "metadata": {},
   "outputs": [],
   "source": [
    "import numpy as np\n",
    "import scipy.io as sio\n",
    "import matplotlib.pyplot as plt"
   ]
  },
  {
   "cell_type": "code",
   "execution_count": 2,
   "id": "4bf0b3cd",
   "metadata": {},
   "outputs": [
    {
     "name": "stdout",
     "output_type": "stream",
     "text": [
      "MNIST database example digit:  9\n"
     ]
    },
    {
     "data": {
      "image/png": "[encoded data removed]",
      "text/plain": [
       "<Figure size 432x288 with 1 Axes>"
      ]
     },
     "metadata": {
      "needs_background": "light"
     },
     "output_type": "display_data"
    }
   ],
   "source": [
    "d = sio.loadmat(\"mnist.mat\")\n",
    "\n",
    "# -- 60,000 training samples --\n",
    "im = d['trainX']  # (60000, 784) -- images\n",
    "lb = d['trainY']  # (1, 60000) -- labels\n",
    "\n",
    "# -- 10,000 test samples --\n",
    "im_test = d['testX']  # (10000, 784) -- test images\n",
    "lb_test = d['testY']  # (1, 10000) -- test labels\n",
    "\n",
    "n = np.random.randint(0,high=60000)\n",
    "\n",
    "# -- labelled sample from dataset --\n",
    "print('MNIST database example digit: ', lb[0,n])\n",
    "plt.imshow(im[n].reshape(28,28))\n",
    "plt.show()"
   ]
  },
  {
   "cell_type": "code",
   "execution_count": 123,
   "id": "1555d2ca-e22e-48e3-ba67-65791b7e25e0",
   "metadata": {},
   "outputs": [],
   "source": [
    "import tensorflow as tf\n",
    "from tensorflow.keras.utils import to_categorical"
   ]
  },
  {
   "cell_type": "code",
   "execution_count": 124,
   "id": "8b4d24d8-15a4-4917-b779-a2318ea9adc6",
   "metadata": {},
   "outputs": [],
   "source": [
    "## -- Creating CNN model using TF functional API --\n",
    "\n",
    "# -- input layer\n",
    "in_put = tf.keras.Input(shape=(28,28,1))\n",
    "# -- 2D conv layer\n",
    "im_conv = tf.keras.layers.Conv2D(\n",
    "    filters=8,\n",
    "    kernel_size=5,\n",
    "    activation='relu',\n",
    ")(in_put)\n",
    "# -- max pooling layer\n",
    "pool1 = tf.keras.layers.MaxPool2D(\n",
    "    pool_size=(2, 2),\n",
    ")(im_conv)\n",
    "# -- 2D conv layer\n",
    "im_conv2 = tf.keras.layers.Conv2D(\n",
    "    filters=16,\n",
    "    kernel_size=5,\n",
    "    activation='relu',\n",
    ")(pool1)\n",
    "# -- max pooling layer\n",
    "pool2 = tf.keras.layers.MaxPool2D(\n",
    "    pool_size=(2, 2),\n",
    ")(im_conv2)\n",
    "# -- dense layers\n",
    "flat = tf.keras.layers.Flatten()(pool2)\n",
    "a = tf.keras.layers.Dense(120, activation='relu')(flat)\n",
    "b = tf.keras.layers.Dense(84, activation='relu')(a)\n",
    "output = tf.keras.layers.Dense(10, activation='softmax')(b)\n",
    "\n",
    "model = tf.keras.Model(in_put, output)"
   ]
  },
  {
   "cell_type": "code",
   "execution_count": 115,
   "id": "3af115a2-ed8a-4838-8076-7e9ca3cb6446",
   "metadata": {},
   "outputs": [
    {
     "data": {
      "image/png": "[encoded data removed]",
      "text/plain": [
       "<Figure size 432x288 with 1 Axes>"
      ]
     },
     "metadata": {
      "needs_background": "light"
     },
     "output_type": "display_data"
    },
    {
     "data": {
      "image/png": "[encoded data removed]",
      "text/plain": [
       "<Figure size 432x288 with 1 Axes>"
      ]
     },
     "metadata": {
      "needs_background": "light"
     },
     "output_type": "display_data"
    }
   ],
   "source": [
    "## -- creating dataset using TF Dataset API --\n",
    "# -- creating epochs, batchsize and shuffling data every epoch --\n",
    "\n",
    "EPOCHS = 6\n",
    "BATCH_SIZE = 50\n",
    "dataset = tf.data.Dataset.from_tensor_slices(((im/255.).reshape(-1,28,28,1), \n",
    "                                              to_categorical(lb.reshape(-1,1))))\n",
    "dataset = dataset.shuffle(len(im), reshuffle_each_iteration=True).repeat(EPOCHS).batch(BATCH_SIZE)\n",
    "# -- plotting two examples from the shuffled dataset\n",
    "for i in dataset.take(2):\n",
    "    plt.imshow(i[0][0])\n",
    "    plt.show()"
   ]
  },
  {
   "cell_type": "code",
   "execution_count": 99,
   "id": "92b437f6-ebdd-454d-9a80-d50cff34c1bb",
   "metadata": {},
   "outputs": [
    {
     "name": "stdout",
     "output_type": "stream",
     "text": [
      "7200/7200 [==============================] - 83s 12ms/step - loss: 0.0674 - accuracy: 0.9792\n"
     ]
    },
    {
     "data": {
      "text/plain": [
       "<tensorflow.python.keras.callbacks.History at 0x18b2745e850>"
      ]
     },
     "execution_count": 99,
     "metadata": {},
     "output_type": "execute_result"
    }
   ],
   "source": [
    "## -- compiling and training the model --\n",
    "model.compile(optimizer='adam', loss='CategoricalCrossentropy', metrics=['accuracy'])\n",
    "\n",
    "model.fit(dataset)"
   ]
  },
  {
   "cell_type": "code",
   "execution_count": 100,
   "id": "0cce1890-6d1c-43a2-82d5-f12941f6095c",
   "metadata": {},
   "outputs": [
    {
     "name": "stdout",
     "output_type": "stream",
     "text": [
      "10000/10000 [==============================] - 9s 884us/step - loss: 0.0378 - accuracy: 0.9882\n",
      "Accuracy on test data: 98.8 %\n"
     ]
    }
   ],
   "source": [
    "## -- evaluating the model with test data --\n",
    "\n",
    "[loss, acc] = model.evaluate((im_test/255.).reshape(-1,28,28,1), \n",
    "                             to_categorical(lb_test.reshape(-1,1)), batch_size=1)\n",
    "print(f'Accuracy on test data: {round(acc*100,1)} %')"
   ]
  },
  {
   "cell_type": "code",
   "execution_count": 120,
   "id": "9c487260-52d0-4b9b-9892-5e4f28d8ec4c",
   "metadata": {},
   "outputs": [
    {
     "data": {
      "image/png": "[encoded data removed]",
      "text/plain": [
       "<Figure size 432x288 with 1 Axes>"
      ]
     },
     "metadata": {
      "needs_background": "light"
     },
     "output_type": "display_data"
    },
    {
     "name": "stdout",
     "output_type": "stream",
     "text": [
      "Answer: 8\n"
     ]
    }
   ],
   "source": [
    "## -- random output prediction --\n",
    "\n",
    "n = np.random.randint(0,high=10000)\n",
    "\n",
    "x = np.array(im_test[n]/255)\n",
    "x = x.reshape(-1,28,28,1)\n",
    "\n",
    "plt.imshow(x[0])\n",
    "plt.show()\n",
    "\n",
    "print(f'Answer: {np.argmax(model.predict(x))}')"
   ]
  },
  {
   "cell_type": "code",
   "execution_count": 106,
   "id": "233518de-e916-451a-b278-5ec019b81bd3",
   "metadata": {
    "tags": []
   },
   "outputs": [
    {
     "name": "stdout",
     "output_type": "stream",
     "text": [
      "Model: \"functional_19\"\n",
      "_________________________________________________________________\n",
      "Layer (type)                 Output Shape              Param #   \n",
      "=================================================================\n",
      "input_6 (InputLayer)         [(None, 28, 28, 1)]       0         \n",
      "_________________________________________________________________\n",
      "conv2d_9 (Conv2D)            (None, 24, 24, 8)         208       \n",
      "_________________________________________________________________\n",
      "max_pooling2d_8 (MaxPooling2 (None, 12, 12, 8)         0         \n",
      "_________________________________________________________________\n",
      "conv2d_10 (Conv2D)           (None, 8, 8, 16)          3216      \n",
      "_________________________________________________________________\n",
      "max_pooling2d_9 (MaxPooling2 (None, 4, 4, 16)          0         \n",
      "_________________________________________________________________\n",
      "flatten_4 (Flatten)          (None, 256)               0         \n",
      "_________________________________________________________________\n",
      "dense_12 (Dense)             (None, 120)               30840     \n",
      "_________________________________________________________________\n",
      "dense_13 (Dense)             (None, 84)                10164     \n",
      "_________________________________________________________________\n",
      "dense_14 (Dense)             (None, 10)                850       \n",
      "=================================================================\n",
      "Total params: 45,278\n",
      "Trainable params: 45,278\n",
      "Non-trainable params: 0\n",
      "_________________________________________________________________\n"
     ]
    }
   ],
   "source": [
    "model.summary()"
   ]
  },
  {
   "cell_type": "code",
   "execution_count": 121,
   "id": "de23f119-39f9-4ce6-8f89-cba6f57a07c6",
   "metadata": {},
   "outputs": [],
   "source": [
    "## -- getting filter output from first convolution layer --\n",
    "layer_name = 'conv2d_9'\n",
    "intm_layer_model = tf.keras.Model(inputs=model.input,\n",
    "                                       outputs=model.get_layer(layer_name).output)\n",
    "intm_output = intm_layer_model(x)"
   ]
  },
  {
   "cell_type": "code",
   "execution_count": 122,
   "id": "035b5e59-8ab8-4157-a5b8-a905fe2b0d57",
   "metadata": {
    "tags": []
   },
   "outputs": [
    {
     "data": {
      "image/png": "[encoded data removed]",
      "text/plain": [
       "<Figure size 432x288 with 1 Axes>"
      ]
     },
     "metadata": {
      "needs_background": "light"
     },
     "output_type": "display_data"
    }
   ],
   "source": [
    "plt.imshow(intm_output[0][:,:,3])\n",
    "plt.show()"
   ]
  },
  {
   "cell_type": "code",
   "execution_count": null,
   "id": "94a8a423-bcd9-4b10-abb6-544d711ee60d",
   "metadata": {},
   "outputs": [],
   "source": []
  }
 ],
 "metadata": {
  "kernelspec": {
   "display_name": "Python 3 (ipykernel)",
   "language": "python",
   "name": "python3"
  },
  "language_info": {
   "codemirror_mode": {
    "name": "ipython",
    "version": 3
   },
   "file_extension": ".py",
   "mimetype": "text/x-python",
   "name": "python",
   "nbconvert_exporter": "python",
   "pygments_lexer": "ipython3",
   "version": "3.8.10"
  }
 },
 "nbformat": 4,
 "nbformat_minor": 5
}

{
 "cells": [
  {
   "cell_type": "markdown",
   "id": "84964440-158b-4554-97fd-7c2f08d06cc7",
   "metadata": {},
   "source": [
    "### Convolutional neural network using Tensorflow Functional API\n",
    "<br><br />\n",
    "This exercise is to implement a CNN which is very similar to the *LeNet-5* network made to identify hand written digits from the [MNIST database](http://yann.lecun.com/exdb/mnist/). The database was converted to a matlab file externally and imported as it is here.\n",
    "\n",
    "Here *Tensorflow* data.Dataset API is also used to create a training dataset much like you would do on cloud for a data pipeline.<br><br />"
   ]
  },
  {
   "cell_type": "code",
   "execution_count": 1,
   "id": "7a0860be",
   "metadata": {},
   "outputs": [],
   "source": [
    "import numpy as np\n",
    "import scipy.io as sio\n",
    "import matplotlib.pyplot as plt\n",
    "from sklearn.model_selection import train_test_split"
   ]
  },
  {
   "cell_type": "code",
   "execution_count": 4,
   "id": "4bf0b3cd",
   "metadata": {},
   "outputs": [
    {
     "name": "stdout",
     "output_type": "stream",
     "text": [
      "MNIST database example digit:  3\n"
     ]
    },
    {
     "data": {
      "image/png": "[encoded data removed]",
      "text/plain": [
       "<Figure size 432x288 with 1 Axes>"
      ]
     },
     "metadata": {
      "needs_background": "light"
     },
     "output_type": "display_data"
    }
   ],
   "source": [
    "d = sio.loadmat(\"mnist.mat\")\n",
    "\n",
    "# -- 60,000 training samples --\n",
    "im_data = d['trainX']  # (60000, 784) -- images\n",
    "lb_data = d['trainY']  # (1, 60000) -- labels\n",
    "\n",
    "im, im_val, lb, lb_val = train_test_split(im_data, \n",
    "                                          lb_data.reshape(-1,), \n",
    "                                          test_size=0.1, \n",
    "                                          random_state=50)\n",
    "\n",
    "\n",
    "# -- 10,000 test samples --\n",
    "im_test = d['testX']  # (10000, 784) -- test images\n",
    "lb_test = d['testY']  # (1, 10000) -- test labels\n",
    "\n",
    "n = np.random.randint(0,high=len(im))\n",
    "\n",
    "# -- labelled sample from dataset --\n",
    "print('MNIST database example digit: ', lb[n])\n",
    "plt.imshow(im[n].reshape(28,28))\n",
    "plt.show()"
   ]
  },
  {
   "cell_type": "code",
   "execution_count": 5,
   "id": "e236aa26-90ee-400a-81c5-f367c0b34d23",
   "metadata": {},
   "outputs": [
    {
     "name": "stdout",
     "output_type": "stream",
     "text": [
      "(54000, 784)\n",
      "(6000, 784)\n"
     ]
    }
   ],
   "source": [
    "print(im.shape)\n",
    "print(im_val.shape)"
   ]
  },
  {
   "cell_type": "code",
   "execution_count": 6,
   "id": "1555d2ca-e22e-48e3-ba67-65791b7e25e0",
   "metadata": {},
   "outputs": [
    {
     "data": {
      "text/plain": [
       "'2.3.0'"
      ]
     },
     "execution_count": 6,
     "metadata": {},
     "output_type": "execute_result"
    }
   ],
   "source": [
    "import tensorflow as tf\n",
    "from tensorflow.keras.utils import to_categorical\n",
    "tf.__version__"
   ]
  },
  {
   "cell_type": "code",
   "execution_count": 7,
   "id": "02c27421-819a-4a92-9e0b-b674d1cd3f5e",
   "metadata": {},
   "outputs": [],
   "source": [
    "## -- CNN model architecture using TF Functional API --\n",
    "\n",
    "# -- input layer\n",
    "in_put = tf.keras.Input(shape=(28,28,1), name='input_layer')\n",
    "# -- 2D conv layer\n",
    "im_conv1 = tf.keras.layers.Conv2D( name = 'conv1',\n",
    "    filters=32,\n",
    "    kernel_size=5,\n",
    "    activation='relu',\n",
    "    padding='same'\n",
    ")(in_put)\n",
    "# -- max pooling layer\n",
    "pool1 = tf.keras.layers.MaxPool2D( name = 'pool1',\n",
    "    pool_size=(2, 2),\n",
    ")(im_conv1)\n",
    "\n",
    "# -- 2D conv layer\n",
    "im_conv2 = tf.keras.layers.Conv2D( name = 'conv2',\n",
    "    filters=64,\n",
    "    kernel_size=5,\n",
    "    activation='relu',\n",
    "#     padding='same'\n",
    ")(pool1)\n",
    "# -- max pooling layer\n",
    "pool2 = tf.keras.layers.MaxPool2D( name = 'pool2',\n",
    "    pool_size=(2, 2),\n",
    ")(im_conv2)\n",
    "\n",
    "# -- dense layers\n",
    "flat = tf.keras.layers.Flatten(name='flat1')(pool2)\n",
    "a = tf.keras.layers.Dense(240, activation='relu', name='dense1')(flat)\n",
    "# b = tf.keras.layers.Dense(80, activation='relu', name='dense3')(a)\n",
    "output = tf.keras.layers.Dense(10, activation='softmax', name='output_layer')(a)\n",
    "\n",
    "model = tf.keras.Model(in_put, output)"
   ]
  },
  {
   "cell_type": "code",
   "execution_count": 8,
   "id": "f5446e8d-18c1-41dc-8c47-5a053d17d68e",
   "metadata": {},
   "outputs": [
    {
     "name": "stdout",
     "output_type": "stream",
     "text": [
      "Model: \"functional_1\"\n",
      "_________________________________________________________________\n",
      "Layer (type)                 Output Shape              Param #   \n",
      "=================================================================\n",
      "input_layer (InputLayer)     [(None, 28, 28, 1)]       0         \n",
      "_________________________________________________________________\n",
      "conv1 (Conv2D)               (None, 28, 28, 32)        832       \n",
      "_________________________________________________________________\n",
      "pool1 (MaxPooling2D)         (None, 14, 14, 32)        0         \n",
      "_________________________________________________________________\n",
      "conv2 (Conv2D)               (None, 10, 10, 64)        51264     \n",
      "_________________________________________________________________\n",
      "pool2 (MaxPooling2D)         (None, 5, 5, 64)          0         \n",
      "_________________________________________________________________\n",
      "flat1 (Flatten)              (None, 1600)              0         \n",
      "_________________________________________________________________\n",
      "dense1 (Dense)               (None, 240)               384240    \n",
      "_________________________________________________________________\n",
      "output_layer (Dense)         (None, 10)                2410      \n",
      "=================================================================\n",
      "Total params: 438,746\n",
      "Trainable params: 438,746\n",
      "Non-trainable params: 0\n",
      "_________________________________________________________________\n"
     ]
    }
   ],
   "source": [
    "model.summary()"
   ]
  },
  {
   "cell_type": "code",
   "execution_count": 11,
   "id": "3af115a2-ed8a-4838-8076-7e9ca3cb6446",
   "metadata": {},
   "outputs": [
    {
     "data": {
      "image/png": "[encoded data removed]",
      "text/plain": [
       "<Figure size 432x288 with 2 Axes>"
      ]
     },
     "metadata": {
      "needs_background": "light"
     },
     "output_type": "display_data"
    }
   ],
   "source": [
    "## -- creating datasets using TF Dataset API --\n",
    "\n",
    "BATCH_SIZE = 50\n",
    "dataset = tf.data.Dataset.from_tensor_slices(((im/255.).reshape(-1,28,28,1), \n",
    "                                              to_categorical(lb.reshape(-1,1))))\n",
    "\n",
    "dataset = dataset.shuffle(len(im), reshuffle_each_iteration=True).batch(BATCH_SIZE)\n",
    "\n",
    "# -- validation set --\n",
    "valset = tf.data.Dataset.from_tensor_slices(((im_val/255.).reshape(-1,28,28,1), \n",
    "                                              to_categorical(lb_val.reshape(-1,1))))\n",
    "valset = valset.batch(4)\n",
    "\n",
    "# -- plotting two examples from the shuffled dataset\n",
    "fig, axes = plt.subplots(ncols=2, nrows=1)\n",
    "for n,i in enumerate(dataset.take(2)):\n",
    "    axes[n].imshow(i[0][0])\n",
    "plt.show()\n",
    "\n",
    "testset = tf.data.Dataset.from_tensor_slices(((im_test/255.).reshape(-1,28,28,1), \n",
    "                                              to_categorical(lb_test.reshape(-1,1)))).batch(1)"
   ]
  },
  {
   "cell_type": "code",
   "execution_count": 12,
   "id": "1a94e6e1-2a0b-44b9-9471-324353e7e31d",
   "metadata": {},
   "outputs": [
    {
     "name": "stdout",
     "output_type": "stream",
     "text": [
      "<TakeDataset shapes: ((None, 28, 28, 1), (None, 10)), types: (tf.float64, tf.float32)>\n",
      "<TakeDataset shapes: ((None, 28, 28, 1), (None, 10)), types: (tf.float64, tf.float32)>\n",
      "<TakeDataset shapes: ((None, 28, 28, 1), (None, 10)), types: (tf.float64, tf.float32)>\n"
     ]
    }
   ],
   "source": [
    "print(valset.take(1))\n",
    "print(dataset.take(1))\n",
    "print(testset.take(1))"
   ]
  },
  {
   "cell_type": "code",
   "execution_count": 13,
   "id": "92b437f6-ebdd-454d-9a80-d50cff34c1bb",
   "metadata": {},
   "outputs": [
    {
     "name": "stdout",
     "output_type": "stream",
     "text": [
      "Epoch 1/4\n",
      "1080/1080 [==============================] - 44s 41ms/step - loss: 0.1242 - accuracy: 0.9624 - val_loss: 0.0455 - val_accuracy: 0.9865\n",
      "Epoch 2/4\n",
      "1080/1080 [==============================] - 48s 44ms/step - loss: 0.0389 - accuracy: 0.9880 - val_loss: 0.0494 - val_accuracy: 0.9842\n",
      "Epoch 3/4\n",
      "1080/1080 [==============================] - 46s 42ms/step - loss: 0.0254 - accuracy: 0.9914 - val_loss: 0.0459 - val_accuracy: 0.9872\n",
      "Epoch 4/4\n",
      "1080/1080 [==============================] - 46s 43ms/step - loss: 0.0195 - accuracy: 0.9939 - val_loss: 0.0346 - val_accuracy: 0.9890\n"
     ]
    }
   ],
   "source": [
    "## -- compiling and training the model --\n",
    "model.compile(optimizer='adam', loss='CategoricalCrossentropy', metrics=['accuracy'])\n",
    "\n",
    "history = model.fit(dataset, \n",
    "                   epochs=4,\n",
    "                   validation_data=valset,\n",
    "                   )"
   ]
  },
  {
   "cell_type": "code",
   "execution_count": 14,
   "id": "0cce1890-6d1c-43a2-82d5-f12941f6095c",
   "metadata": {
    "tags": []
   },
   "outputs": [
    {
     "name": "stdout",
     "output_type": "stream",
     "text": [
      "10000/10000 [==============================] - 15s 1ms/step - loss: 0.0300 - accuracy: 0.9901 0s - l\n",
      "Accuracy on test data: 99.0 %\n"
     ]
    }
   ],
   "source": [
    "## -- evaluating the model with test data --\n",
    "\n",
    "[loss, acc] = model.evaluate(testset)\n",
    "print(f'Accuracy on test data: {round(acc*100,1)} %')"
   ]
  },
  {
   "cell_type": "code",
   "execution_count": 31,
   "id": "9c487260-52d0-4b9b-9892-5e4f28d8ec4c",
   "metadata": {},
   "outputs": [
    {
     "data": {
      "image/png": "[encoded data removed]",
      "text/plain": [
       "<Figure size 432x288 with 1 Axes>"
      ]
     },
     "metadata": {
      "needs_background": "light"
     },
     "output_type": "display_data"
    },
    {
     "name": "stdout",
     "output_type": "stream",
     "text": [
      "Answer: 8\n"
     ]
    }
   ],
   "source": [
    "## -- random output prediction --\n",
    "\n",
    "n = np.random.randint(0,high=10000)\n",
    "\n",
    "x = np.array(im_test[n]/255)\n",
    "x = x.reshape(-1,28,28,1)\n",
    "\n",
    "plt.imshow(x[0])\n",
    "plt.show()\n",
    "\n",
    "print(f'Answer: {np.argmax(model.predict(x))}')"
   ]
  },
  {
   "cell_type": "code",
   "execution_count": 32,
   "id": "de23f119-39f9-4ce6-8f89-cba6f57a07c6",
   "metadata": {},
   "outputs": [],
   "source": [
    "## -- getting filter output from first convolution layer --\n",
    "layer_name = 'conv1'\n",
    "intm_layer_model = tf.keras.Model(inputs=model.input,\n",
    "                                       outputs=model.get_layer(layer_name).output)\n",
    "intm_output = intm_layer_model(x)"
   ]
  },
  {
   "cell_type": "code",
   "execution_count": null,
   "id": "035b5e59-8ab8-4157-a5b8-a905fe2b0d57",
   "metadata": {
    "tags": []
   },
   "outputs": [],
   "source": [
    "# -- plotting 1st convolutional layer features --\n",
    "\n",
    "cols = 4\n",
    "rows = 8\n",
    "fig, axes = plt.subplots(ncols=cols, nrows=rows, figsize=(17,34))\n",
    "for i in range(rows):\n",
    "    for j in range(cols):\n",
    "        axes[i,j].imshow(intm_output[0][:,:,i+j])\n",
    "plt.show()"
   ]
  },
  {
   "cell_type": "code",
   "execution_count": null,
   "id": "94a8a423-bcd9-4b10-abb6-544d711ee60d",
   "metadata": {},
   "outputs": [],
   "source": []
  }
 ],
 "metadata": {
  "kernelspec": {
   "display_name": "Python 3 (ipykernel)",
   "language": "python",
   "name": "python3"
  },
  "language_info": {
   "codemirror_mode": {
    "name": "ipython",
    "version": 3
   },
   "file_extension": ".py",
   "mimetype": "text/x-python",
   "name": "python",
   "nbconvert_exporter": "python",
   "pygments_lexer": "ipython3",
   "version": "3.8.10"
  }
 },
 "nbformat": 4,
 "nbformat_minor": 5
}

{
 "cells": [
  {
   "cell_type": "markdown",
   "id": "84964440-158b-4554-97fd-7c2f08d06cc7",
   "metadata": {},
   "source": [
    "### Convolutional neural network using Tensorflow Functional API\n",
    "<br><br />\n",
    "This exercise is to implement a CNN which is very similar to the *LeNet-5* network made to identify hand written digits from the [MNIST database](http://yann.lecun.com/exdb/mnist/). The database was converted to a matlab file externally and imported as it is here.<br><br />"
   ]
  },
  {
   "cell_type": "code",
   "execution_count": 121,
   "id": "7a0860be",
   "metadata": {},
   "outputs": [],
   "source": [
    "import numpy as np\n",
    "import scipy.io as sio\n",
    "import matplotlib.pyplot as plt"
   ]
  },
  {
   "cell_type": "code",
   "execution_count": 119,
   "id": "4bf0b3cd",
   "metadata": {},
   "outputs": [
    {
     "name": "stdout",
     "output_type": "stream",
     "text": [
      "MNIST database example digit:  7\n"
     ]
    },
    {
     "data": {
      "image/png": "[encoded data removed]",
      "text/plain": [
       "<Figure size 432x288 with 1 Axes>"
      ]
     },
     "metadata": {
      "needs_background": "light"
     },
     "output_type": "display_data"
    }
   ],
   "source": [
    "d = sio.loadmat(\"mnist.mat\")\n",
    "\n",
    "# -- 60,000 training samples --\n",
    "im = d['trainX']  # (60000, 784) -- images\n",
    "lb = d['trainY']  # (1, 60000) -- labels\n",
    "\n",
    "# -- 10,000 test samples --\n",
    "im_test = d['testX']  # (10000, 784) -- test images\n",
    "lb_test = d['testY']  # (1, 10000) -- test labels\n",
    "\n",
    "n = np.random.randint(0,high=60000)\n",
    "\n",
    "# -- labelled sample from dataset --\n",
    "print('MNIST database example digit: ', lb[0,n])\n",
    "plt.imshow(im[n].reshape(28,28))\n",
    "plt.show()"
   ]
  },
  {
   "cell_type": "code",
   "execution_count": 10,
   "id": "1555d2ca-e22e-48e3-ba67-65791b7e25e0",
   "metadata": {},
   "outputs": [],
   "source": [
    "import tensorflow as tf\n",
    "from tensorflow.keras.utils import to_categorical"
   ]
  },
  {
   "cell_type": "code",
   "execution_count": 114,
   "id": "8b4d24d8-15a4-4917-b779-a2318ea9adc6",
   "metadata": {},
   "outputs": [],
   "source": [
    "## -- Creating CNN model using TF functional API --\n",
    "\n",
    "# -- input layer\n",
    "in_put = tf.keras.Input(shape=(28,28,1))\n",
    "# -- 2D conv layer\n",
    "im_conv = tf.keras.layers.Conv2D(\n",
    "    filters=6,\n",
    "    kernel_size=3,\n",
    "    activation='relu',\n",
    ")(in_put)\n",
    "# -- max pooling layer\n",
    "pool1 = tf.keras.layers.MaxPool2D(\n",
    "    pool_size=(2, 2)\n",
    ")(im_conv)\n",
    "# -- 2D conv layer\n",
    "im_conv2 = tf.keras.layers.Conv2D(\n",
    "    filters=16,\n",
    "    kernel_size=3,\n",
    "    activation='relu',\n",
    ")(pool1)\n",
    "# -- max pooling layer\n",
    "pool2 = tf.keras.layers.MaxPool2D(\n",
    "    pool_size=(2, 2)\n",
    ")(im_conv2)\n",
    "# -- dense layers\n",
    "flat = tf.keras.layers.Flatten()(pool2)\n",
    "a = tf.keras.layers.Dense(120, activation='relu')(flat)\n",
    "b = tf.keras.layers.Dense(84, activation='relu')(a)\n",
    "output = tf.keras.layers.Dense(10, activation='softmax')(b)\n",
    "\n",
    "model = tf.keras.Model(in_put, output)"
   ]
  },
  {
   "cell_type": "code",
   "execution_count": 115,
   "id": "92b437f6-ebdd-454d-9a80-d50cff34c1bb",
   "metadata": {},
   "outputs": [
    {
     "name": "stdout",
     "output_type": "stream",
     "text": [
      "Epoch 1/4\n",
      "1200/1200 [==============================] - 9s 8ms/step - loss: 0.2145 - accuracy: 0.9367\n",
      "Epoch 2/4\n",
      "1200/1200 [==============================] - 9s 8ms/step - loss: 0.0722 - accuracy: 0.9781\n",
      "Epoch 3/4\n",
      "1200/1200 [==============================] - 9s 8ms/step - loss: 0.0525 - accuracy: 0.9841\n",
      "Epoch 4/4\n",
      "1200/1200 [==============================] - 9s 8ms/step - loss: 0.0411 - accuracy: 0.9873\n"
     ]
    },
    {
     "data": {
      "text/plain": [
       "<tensorflow.python.keras.callbacks.History at 0x28308b05a60>"
      ]
     },
     "execution_count": 115,
     "metadata": {},
     "output_type": "execute_result"
    }
   ],
   "source": [
    "## -- compiling and training the model --\n",
    "model.compile(optimizer='adam', loss='CategoricalCrossentropy', metrics=['accuracy'])\n",
    "\n",
    "model.fit((im/255.).reshape(-1,28,28,1), to_categorical(lb.reshape(-1,1)), epochs=4, batch_size=50)"
   ]
  },
  {
   "cell_type": "code",
   "execution_count": 116,
   "id": "0cce1890-6d1c-43a2-82d5-f12941f6095c",
   "metadata": {},
   "outputs": [
    {
     "name": "stdout",
     "output_type": "stream",
     "text": [
      "10000/10000 [==============================] - 9s 868us/step - loss: 0.0414 - accuracy: 0.9858\n",
      "Accuracy on test data: 98.6 %\n"
     ]
    }
   ],
   "source": [
    "## -- evaluating the model with test data --\n",
    "\n",
    "[loss, acc] = model.evaluate((im_test/255.).reshape(-1,28,28,1), \n",
    "                             to_categorical(lb_test.reshape(-1,1)), batch_size=1)\n",
    "print(f'Accuracy on test data: {round(acc*100,1)} %')"
   ]
  },
  {
   "cell_type": "code",
   "execution_count": 117,
   "id": "9c487260-52d0-4b9b-9892-5e4f28d8ec4c",
   "metadata": {},
   "outputs": [
    {
     "data": {
      "image/png": "[encoded data removed]",
      "text/plain": [
       "<Figure size 432x288 with 1 Axes>"
      ]
     },
     "metadata": {
      "needs_background": "light"
     },
     "output_type": "display_data"
    },
    {
     "name": "stdout",
     "output_type": "stream",
     "text": [
      "Answer: 3\n"
     ]
    }
   ],
   "source": [
    "## -- random output prediction --\n",
    "\n",
    "n = np.random.randint(0,high=10000)\n",
    "\n",
    "x = np.array(im_test[n]/255)\n",
    "x = x.reshape(-1,28,28,1)\n",
    "\n",
    "plt.imshow(x[0])\n",
    "plt.show()\n",
    "\n",
    "print(f'Answer: {np.argmax(model.predict(x))}')"
   ]
  },
  {
   "cell_type": "code",
   "execution_count": null,
   "id": "5022cb5a-d870-4fe1-9b32-97d6381f1455",
   "metadata": {},
   "outputs": [],
   "source": []
  }
 ],
 "metadata": {
  "kernelspec": {
   "display_name": "Python 3 (ipykernel)",
   "language": "python",
   "name": "python3"
  },
  "language_info": {
   "codemirror_mode": {
    "name": "ipython",
    "version": 3
   },
   "file_extension": ".py",
   "mimetype": "text/x-python",
   "name": "python",
   "nbconvert_exporter": "python",
   "pygments_lexer": "ipython3",
   "version": "3.8.10"
  }
 },
 "nbformat": 4,
 "nbformat_minor": 5
}

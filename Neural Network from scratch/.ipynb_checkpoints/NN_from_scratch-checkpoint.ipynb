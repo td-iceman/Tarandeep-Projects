{
 "cells": [
  {
   "cell_type": "markdown",
   "id": "0a64fe95",
   "metadata": {},
   "source": [
    "### Neural network from scratch\n",
    "<br><br />\n",
    "This exercise is to implement and understand the core working of a neural network. This basic implementation is based on the video lesson series on neural networks by Grant Sanderson from [_3Blue1Brown_](https://www.youtube.com/c/3blue1brown) on YouTube. The dataset used here is the [MNIST database](http://yann.lecun.com/exdb/mnist/) for handwritten digits and the network is trained to recognize the digits. The database was converted to a matlab file externally and imported as it is here."
   ]
  },
  {
   "cell_type": "code",
   "execution_count": 1,
   "id": "7a0860be",
   "metadata": {},
   "outputs": [],
   "source": [
    "import numpy as np\n",
    "import scipy.io as sio\n",
    "import math\n",
    "import matplotlib.pyplot as plt"
   ]
  },
  {
   "cell_type": "code",
   "execution_count": 68,
   "id": "4bf0b3cd",
   "metadata": {},
   "outputs": [
    {
     "name": "stdout",
     "output_type": "stream",
     "text": [
      "MNIST database example digit:  3\n"
     ]
    },
    {
     "data": {
      "image/png": "[encoded data removed]",
      "text/plain": [
       "<Figure size 432x288 with 1 Axes>"
      ]
     },
     "metadata": {
      "needs_background": "light"
     },
     "output_type": "display_data"
    }
   ],
   "source": [
    "d = sio.loadmat(\"mnist.mat\")\n",
    "\n",
    "# -- 60,000 training samples --\n",
    "im = d['trainX']  # (60000, 784) -- images\n",
    "lb = d['trainY']  # (1, 60000) -- labels\n",
    "\n",
    "# -- 10,000 test samples --\n",
    "im_test = d['testX']  # (10000, 784) -- test images\n",
    "lb_test = d['testY']  # (1, 10000) -- test labels\n",
    "\n",
    "ind = np.arange(0,60000,1)\n",
    "np.random.shuffle(ind)   # randomized index for shuffling image order\n",
    "\n",
    "# -- labelled sample from dataset --\n",
    "print('MNIST database example digit: ', lb[0,ind[0]])\n",
    "plt.imshow(im[ind[0]].reshape(28,28))\n",
    "plt.show()"
   ]
  },
  {
   "cell_type": "code",
   "execution_count": 69,
   "id": "7cf14b5c",
   "metadata": {},
   "outputs": [],
   "source": [
    "class Layer:\n",
    "    eta = 5e-04     # learning rate\n",
    "\n",
    "    def __init__(self, neurons, pl_neurons):\n",
    "        self.neurons = neurons\n",
    "        self.pl_neurons = pl_neurons\n",
    "        self.al_1 = np.zeros(pl_neurons)\n",
    "\n",
    "        self.biases = np.random.randn(self.neurons).reshape(-1,1)\n",
    "        self.weights =  np.random.randn(self.neurons, self.pl_neurons)\n",
    "        self.al = np.zeros(self.neurons)\n",
    "        self.dEs = np.zeros(self.neurons).reshape(-1,1)\n",
    "        \n",
    "    @staticmethod\n",
    "    def sig(x):\n",
    "        return 1/(1 + math.exp(-x))\n",
    "\n",
    "    @staticmethod\n",
    "    def dsig(x):\n",
    "        return math.exp(-x)/(1 + math.exp(-x))**2\n",
    "\n",
    "    def act(self, al_1):\n",
    "        self.al_1 = al_1.reshape(-1,1)\n",
    "        self.z = np.dot(self.weights, self.al_1) + self.biases\n",
    "        for i in range(self.neurons):\n",
    "            self.al[i] = Layer.sig(self.z[i])\n",
    "        return self.al\n",
    "    \n",
    "    def back(self, errpl):\n",
    "        dsigz = np.zeros(self.neurons)\n",
    "        for i in range(self.neurons):\n",
    "            dsigz[i] = Layer.dsig(self.z[i])\n",
    "        db = errpl*dsigz       \n",
    "        errL = np.dot(db, self.weights)        # error required for previous layer\n",
    "        \n",
    "        # -- Adam method --\n",
    "        b = 0.999\n",
    "        self.dEs = b*self.dEs + (1-b)*db.reshape(-1,1)*db.reshape(-1,1)\n",
    "\n",
    "        self.biases = self.biases - self.eta*db.reshape(-1,1)/(self.dEs+1e-10)**0.5\n",
    "        dw = np.outer(db, self.al_1)\n",
    "        self.weights = self.weights - self.eta*dw/(self.dEs+1e-10)**0.5\n",
    "        return errL"
   ]
  },
  {
   "cell_type": "code",
   "execution_count": 70,
   "id": "10698b4b",
   "metadata": {},
   "outputs": [],
   "source": [
    "# -- define network --\n",
    "nl = 15                      # no. of neurons in hidden layer\n",
    "l_hid1 = Layer(nl, 784)      # hidden layer\n",
    "l_out = Layer(10, nl)        # output layer"
   ]
  },
  {
   "cell_type": "code",
   "execution_count": 71,
   "id": "e40be64b",
   "metadata": {},
   "outputs": [
    {
     "name": "stdout",
     "output_type": "stream",
     "text": [
      "epoch --  20 \tcost --  0.0007692\n",
      "epoch --  40 \tcost --  0.0014875\n",
      "epoch --  60 \tcost --  0.0001867\n",
      "epoch --  80 \tcost --  2.4e-05\n",
      "epoch --  100 \tcost --  6.7e-06\n",
      "epoch --  120 \tcost --  3.3e-06\n",
      "epoch --  140 \tcost --  1.6e-06\n",
      "epoch --  160 \tcost --  8e-07\n",
      "epoch --  180 \tcost --  5e-07\n",
      "Done\n"
     ]
    },
    {
     "data": {
      "image/png": "[encoded data removed]",
      "text/plain": [
       "<Figure size 432x288 with 1 Axes>"
      ]
     },
     "metadata": {
      "needs_background": "light"
     },
     "output_type": "display_data"
    }
   ],
   "source": [
    "# -- Training the model --\n",
    "Ne = 200     # no. of epochs\n",
    "Ni = 60000   # no. of images\n",
    "bt = 6      # mini-batch size for stochastic version of optimzer\n",
    "cost = np.zeros(Ne)\n",
    "\n",
    "for jj in range(Ne):\n",
    "    for j in range(int(Ni/bt)):\n",
    "        dC = np.zeros(10)\n",
    "        for i in range(bt):\n",
    "\n",
    "            a_in = np.array([im[ind[i+j*bt]] / 255])   # input layer activation\n",
    "            y = np.zeros(10)\n",
    "            y[lb[0, ind[i+j*bt]]] = 1    # one-hot encoding for target label\n",
    "\n",
    "            # -- activation --\n",
    "            a_1 = l_hid1.act(a_in)\n",
    "            a_out = l_out.act(a_1)\n",
    "\n",
    "            dC = dC + a_out - y    # error accumulation for mini-batch\n",
    "            \n",
    "        # -- backpropagation --\n",
    "        errL = l_out.back(dC/bt)\n",
    "        errL_1 = l_hid1.back(errL)\n",
    "    cost[jj] = 0.5*np.sum((a_out-y)**2)/10\n",
    "    if jj%20==0 and jj>0: print('epoch -- ', jj, '\\tcost -- ', round(cost[jj],7))\n",
    "\n",
    "print('Done')\n",
    "plt.plot(range(len(cost)), cost,  '.', markeredgewidth=2, markersize=3, fillstyle='none',\n",
    "         markeredgecolor= [0.7,0.2,0.3])\n",
    "plt.xlabel('epochs')\n",
    "plt.ylabel('MSE')\n",
    "plt.yscale('log')\n",
    "plt.show()"
   ]
  },
  {
   "cell_type": "markdown",
   "id": "12956e2a",
   "metadata": {},
   "source": [
    "<br><br />\n",
    "This implementation is slow, so we stop at a reasonably good error minimization and check the results. Note that this exercise is to understand the neural network working and implementat"
   ]
  },
  {
   "cell_type": "code",
   "execution_count": 72,
   "id": "0fbd202b",
   "metadata": {},
   "outputs": [
    {
     "name": "stdout",
     "output_type": "stream",
     "text": [
      "Correct training samples:  53922 / 60000 \t-- 89.9 %\n"
     ]
    }
   ],
   "source": [
    "# -- Evaluate with trained data --\n",
    "score = 0\n",
    "for ii in range(Ni):\n",
    "\n",
    "    a_in = np.array([im[ind[ii]] / 255])\n",
    "    y = np.zeros(10)\n",
    "    y[lb[0, ind[ii]]] = 1\n",
    "       \n",
    "    a_1 = l_hid1.act(a_in)\n",
    "    a_out = l_out.act(a_1)\n",
    "\n",
    "    if lb[0, ind[ii]]==np.argmax(a_out): \n",
    "        score+=1\n",
    "print('Correct training samples: ', score,'/',Ni, '\\t--',round(score*100/Ni,1),'%')\n"
   ]
  },
  {
   "cell_type": "code",
   "execution_count": 73,
   "id": "3adb2a56",
   "metadata": {},
   "outputs": [
    {
     "name": "stdout",
     "output_type": "stream",
     "text": [
      "Correct test samples:  8977 / 10000 \t-- 89.8 %\n"
     ]
    }
   ],
   "source": [
    "# -- Test --\n",
    "score_t = 0\n",
    "M = 10000\n",
    "for ii in range(M):\n",
    "\n",
    "    a_t = np.array([im_test[ii] / 255])\n",
    "    y = np.zeros(10)\n",
    "    y[lb_test[0, ii]] = 1\n",
    "       \n",
    "    ah = l_hid1.act(a_t)\n",
    "    a_t = l_out.act(ah)\n",
    "\n",
    "    if lb_test[0, ii]==np.argmax(a_t): \n",
    "        score_t+=1\n",
    "print('Correct test samples: ', score_t,'/',M, '\\t--',round(score_t*100/M,1),'%')"
   ]
  },
  {
   "cell_type": "markdown",
   "id": "df8f3fa3",
   "metadata": {},
   "source": [
    "The training data and test data evaluation results are pretty close, which means our model is not overfitting.\n",
    "<br></br>\n",
    "\n",
    "### Verification with Tensorflow\n",
    "Just to check that our network has not done too badly, we try out the same architecture in _tensorflow_. It will be much faster to train, but that is not really a concern for this exercise."
   ]
  },
  {
   "cell_type": "code",
   "execution_count": 55,
   "id": "2ecee23d",
   "metadata": {},
   "outputs": [],
   "source": [
    "from tensorflow import keras\n",
    "from tensorflow.keras.utils import to_categorical"
   ]
  },
  {
   "cell_type": "code",
   "execution_count": 74,
   "id": "7181f62b",
   "metadata": {},
   "outputs": [
    {
     "name": "stdout",
     "output_type": "stream",
     "text": [
      "Epoch 1/10\n",
      "10000/10000 [==============================] - 8s 817us/step - loss: 0.0321 - accuracy: 0.82920s - loss: 0.0325 - accura\n",
      "Epoch 2/10\n",
      "10000/10000 [==============================] - 8s 810us/step - loss: 0.0143 - accuracy: 0.91920s - loss: 0.0143 - accura - ETA: 0s - loss: 0.0143 - accu\n",
      "Epoch 3/10\n",
      "10000/10000 [==============================] - 8s 803us/step - loss: 0.0124 - accuracy: 0.9280\n",
      "Epoch 4/10\n",
      "10000/10000 [==============================] - 8s 805us/step - loss: 0.0115 - accuracy: 0.9323\n",
      "Epoch 5/10\n",
      "10000/10000 [==============================] - 8s 774us/step - loss: 0.0109 - accuracy: 0.93600s - loss: 0.0 - ETA: 0s - loss: 0.0108 - accu\n",
      "Epoch 6/10\n",
      "10000/10000 [==============================] - 8s 833us/step - loss: 0.0104 - accuracy: 0.9392\n",
      "Epoch 7/10\n",
      "10000/10000 [==============================] - 8s 827us/step - loss: 0.0100 - accuracy: 0.9412\n",
      "Epoch 8/10\n",
      "10000/10000 [==============================] - 8s 803us/step - loss: 0.0097 - accuracy: 0.9439\n",
      "Epoch 9/10\n",
      "10000/10000 [==============================] - 8s 815us/step - loss: 0.0094 - accuracy: 0.9442\n",
      "Epoch 10/10\n",
      "10000/10000 [==============================] - 8s 811us/step - loss: 0.0092 - accuracy: 0.94620s - los\n",
      "Done\n",
      "\n",
      "313/313 [==============================] - 0s 628us/step - loss: 0.0101 - accuracy: 0.9399\n",
      "Tensorflow correct test samples:  94.0 %\n"
     ]
    }
   ],
   "source": [
    "# -- Keras model --\n",
    "model = keras.Sequential([\n",
    "  keras.layers.Dense(15, activation='sigmoid', input_shape=(784,)),\n",
    "  keras.layers.Dense(10, activation='sigmoid')\n",
    "])\n",
    "\n",
    "model.compile(optimizer='adam', loss='mse', metrics=['accuracy'])\n",
    "\n",
    "# -- Training the model --\n",
    "model.fit(im/255., to_categorical(lb.reshape(-1,1)), epochs=10, batch_size=6)\n",
    "print('Done\\n')\n",
    "# -- Test --\n",
    "tr = model.evaluate(im_test/255., to_categorical(lb_test.reshape(-1,1)))\n",
    "print('Tensorflow correct test samples: ', round(tr[1]*100,1),'%')"
   ]
  },
  {
   "cell_type": "markdown",
   "id": "89382b9b",
   "metadata": {},
   "source": [
    "Looks like our model is not bad after all for a basic implementation without using any ML libraries."
   ]
  },
  {
   "cell_type": "code",
   "execution_count": null,
   "id": "6759ee38",
   "metadata": {},
   "outputs": [],
   "source": []
  }
 ],
 "metadata": {
  "kernelspec": {
   "display_name": "Python 3 (ipykernel)",
   "language": "python",
   "name": "python3"
  },
  "language_info": {
   "codemirror_mode": {
    "name": "ipython",
    "version": 3
   },
   "file_extension": ".py",
   "mimetype": "text/x-python",
   "name": "python",
   "nbconvert_exporter": "python",
   "pygments_lexer": "ipython3",
   "version": "3.8.10"
  }
 },
 "nbformat": 4,
 "nbformat_minor": 5
}
